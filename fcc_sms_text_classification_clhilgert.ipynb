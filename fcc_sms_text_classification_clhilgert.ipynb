{
  "nbformat": 4,
  "nbformat_minor": 0,
  "metadata": {
    "colab": {
      "provenance": []
    },
    "kernelspec": {
      "name": "python3",
      "display_name": "Python 3"
    },
    "language_info": {
      "name": "python"
    },
    "accelerator": "GPU",
    "gpuClass": "standard"
  },
  "cells": [
    {
      "cell_type": "code",
      "execution_count": null,
      "metadata": {
        "id": "ARM6ew-ZNgCz",
        "colab": {
          "base_uri": "https://localhost:8080/"
        },
        "outputId": "12091119-1629-42a0-e6e3-56e267f9d1f7"
      },
      "outputs": [
        {
          "output_type": "stream",
          "name": "stdout",
          "text": [
            "  Preparing metadata (setup.py) ... \u001b[?25l\u001b[?25hdone\n",
            "  Building wheel for tensorflow-docs (setup.py) ... \u001b[?25l\u001b[?25hdone\n",
            "Colab only includes TensorFlow 2.x; %tensorflow_version has no effect.\n"
          ]
        }
      ],
      "source": [
        "# Import libraries. You may or may not use all of these. - do not edit\n",
        "!pip install -q git+https://github.com/tensorflow/docs\n",
        "import matplotlib.pyplot as plt\n",
        "import numpy as np\n",
        "import pandas as pd\n",
        "\n",
        "try:\n",
        "  # %tensorflow_version only exists in Colab.\n",
        "  %tensorflow_version 2.x\n",
        "except Exception:\n",
        "  pass\n",
        "import tensorflow as tf\n",
        "\n",
        "from tensorflow import keras\n",
        "from tensorflow.keras import layers\n",
        "import tensorflow_datasets as tfds\n",
        "import tensorflow_docs as tfdocs\n",
        "import tensorflow_docs.plots\n",
        "import tensorflow_docs.modeling"
      ]
    },
    {
      "cell_type": "code",
      "source": [
        "# get data files - do not edit\n",
        "!wget https://cdn.freecodecamp.org/project-data/sms/train-data.tsv\n",
        "!wget https://cdn.freecodecamp.org/project-data/sms/valid-data.tsv\n",
        "\n",
        "train_file_path = \"train-data.tsv\"\n",
        "test_file_path = \"valid-data.tsv\""
      ],
      "metadata": {
        "colab": {
          "base_uri": "https://localhost:8080/"
        },
        "id": "OYGIY4XCOHUO",
        "outputId": "7f912c85-d42a-4b32-e268-3d4239b03d22"
      },
      "execution_count": 119,
      "outputs": [
        {
          "output_type": "stream",
          "name": "stdout",
          "text": [
            "--2023-02-09 21:43:28--  https://cdn.freecodecamp.org/project-data/sms/train-data.tsv\n",
            "Resolving cdn.freecodecamp.org (cdn.freecodecamp.org)... 104.26.2.33, 104.26.3.33, 172.67.70.149, ...\n",
            "Connecting to cdn.freecodecamp.org (cdn.freecodecamp.org)|104.26.2.33|:443... connected.\n",
            "HTTP request sent, awaiting response... 200 OK\n",
            "Length: 358233 (350K) [text/tab-separated-values]\n",
            "Saving to: ‘train-data.tsv.3’\n",
            "\n",
            "train-data.tsv.3    100%[===================>] 349.84K  1.74MB/s    in 0.2s    \n",
            "\n",
            "2023-02-09 21:43:29 (1.74 MB/s) - ‘train-data.tsv.3’ saved [358233/358233]\n",
            "\n",
            "--2023-02-09 21:43:29--  https://cdn.freecodecamp.org/project-data/sms/valid-data.tsv\n",
            "Resolving cdn.freecodecamp.org (cdn.freecodecamp.org)... 104.26.2.33, 104.26.3.33, 172.67.70.149, ...\n",
            "Connecting to cdn.freecodecamp.org (cdn.freecodecamp.org)|104.26.2.33|:443... connected.\n",
            "HTTP request sent, awaiting response... 200 OK\n",
            "Length: 118774 (116K) [text/tab-separated-values]\n",
            "Saving to: ‘valid-data.tsv.3’\n",
            "\n",
            "valid-data.tsv.3    100%[===================>] 115.99K  --.-KB/s    in 0.01s   \n",
            "\n",
            "2023-02-09 21:43:30 (9.26 MB/s) - ‘valid-data.tsv.3’ saved [118774/118774]\n",
            "\n"
          ]
        }
      ]
    },
    {
      "cell_type": "code",
      "source": [
        "# Read .tsv data and load into pandas dataframe\n",
        "df_train = pd.read_csv(train_file_path, sep='\\t', header=None, names=['label', 'text'])\n",
        "df_test = pd.read_csv(test_file_path, sep='\\t', header=None, names=['label', 'text'])"
      ],
      "metadata": {
        "id": "6mSlfHymOJqv"
      },
      "execution_count": 120,
      "outputs": []
    },
    {
      "cell_type": "code",
      "source": [
        "# Change categorical 'ham' or 'spam' data into numeric data\n",
        "df_train['label'] = pd.Categorical(df_train['label']).codes\n",
        "df_test['label'] = pd.Categorical(df_test['label']).codes"
      ],
      "metadata": {
        "id": "QRwmTRdvXmTt"
      },
      "execution_count": 121,
      "outputs": []
    },
    {
      "cell_type": "code",
      "source": [
        "# Create numpy arrays for training and testing labels\n",
        "train_labels = df_train['label'].values\n",
        "test_labels = df_test['label'].values"
      ],
      "metadata": {
        "id": "RVJ2zyCMZZgs"
      },
      "execution_count": 122,
      "outputs": []
    },
    {
      "cell_type": "code",
      "source": [
        "# Create numpy datasets from training and tesitng dataframes\n",
        "ds_train = tf.data.Dataset.from_tensor_slices((df_train['text'].values, df_train['label'].values))\n",
        "ds_test = tf.data.Dataset.from_tensor_slices((df_test['text'].values, df_test['label'].values))\n",
        "ds_test.element_spec"
      ],
      "metadata": {
        "colab": {
          "base_uri": "https://localhost:8080/"
        },
        "id": "oM3uYKk-a5qu",
        "outputId": "e7253e72-8dfc-40a0-f2fa-7f7112b3c686"
      },
      "execution_count": 123,
      "outputs": [
        {
          "output_type": "execute_result",
          "data": {
            "text/plain": [
              "(TensorSpec(shape=(), dtype=tf.string, name=None),\n",
              " TensorSpec(shape=(), dtype=tf.int8, name=None))"
            ]
          },
          "metadata": {},
          "execution_count": 123
        }
      ]
    },
    {
      "cell_type": "code",
      "source": [
        "# Shuffle data for training and create batches of (text, label) pairs\n",
        "BUFFER_SIZE = 128\n",
        "BATCH_SIZE = 32\n",
        "ds_train = ds_train.shuffle(BUFFER_SIZE).batch(BATCH_SIZE).prefetch(tf.data.AUTOTUNE)\n",
        "ds_test = ds_test.batch(BATCH_SIZE).prefetch(tf.data.AUTOTUNE)"
      ],
      "metadata": {
        "id": "rGTTTyj6blGd"
      },
      "execution_count": 124,
      "outputs": []
    },
    {
      "cell_type": "code",
      "source": [
        "# Create text encoder\n",
        "VOCAB_SIZE = 2000\n",
        "encoder = tf.keras.layers.TextVectorization(\n",
        "    max_tokens=VOCAB_SIZE)\n",
        "encoder.adapt(ds_train.map(lambda text, label: text))"
      ],
      "metadata": {
        "id": "5SavcAKQ52kz"
      },
      "execution_count": 125,
      "outputs": []
    },
    {
      "cell_type": "code",
      "source": [
        "vocab = np.array(encoder.get_vocabulary())\n",
        "vocab[:20]"
      ],
      "metadata": {
        "colab": {
          "base_uri": "https://localhost:8080/"
        },
        "id": "UTcVgZHl9ay1",
        "outputId": "54aa822c-6d3e-4d70-93fd-29e83fc86ac8"
      },
      "execution_count": 126,
      "outputs": [
        {
          "output_type": "execute_result",
          "data": {
            "text/plain": [
              "array(['', '[UNK]', 'to', 'i', 'you', 'a', 'the', 'u', 'and', 'in', 'is',\n",
              "       'me', 'my', 'for', 'your', 'of', 'it', 'call', 'have', 'on'],\n",
              "      dtype='<U19')"
            ]
          },
          "metadata": {},
          "execution_count": 126
        }
      ]
    },
    {
      "cell_type": "code",
      "source": [
        "# Create model\n",
        "model = tf.keras.Sequential([\n",
        "    encoder,\n",
        "    tf.keras.layers.Embedding(\n",
        "        input_dim=len(encoder.get_vocabulary()),\n",
        "        output_dim=64,\n",
        "        mask_zero=True),\n",
        "    tf.keras.layers.Bidirectional(tf.keras.layers.LSTM(64)),\n",
        "    tf.keras.layers.Dense(64, activation='relu'),\n",
        "    tf.keras.layers.Dense(1)\n",
        "])"
      ],
      "metadata": {
        "id": "wE0gjIw4903_"
      },
      "execution_count": 127,
      "outputs": []
    },
    {
      "cell_type": "code",
      "source": [
        "model.compile(loss=tf.keras.losses.BinaryCrossentropy(from_logits=True),\n",
        "              optimizer=tf.keras.optimizers.Adam(1e-4),\n",
        "              metrics=['accuracy'])"
      ],
      "metadata": {
        "id": "sdZpta32-yiF"
      },
      "execution_count": 128,
      "outputs": []
    },
    {
      "cell_type": "code",
      "source": [
        "# Train model\n",
        "history = model.fit(ds_train, epochs=10,\n",
        "                    validation_data=ds_test,\n",
        "                    validation_steps=30)"
      ],
      "metadata": {
        "colab": {
          "base_uri": "https://localhost:8080/"
        },
        "id": "IV4WWXQb-1XD",
        "outputId": "accb2a5b-040b-4c04-9ea6-79781bf143c6"
      },
      "execution_count": 129,
      "outputs": [
        {
          "output_type": "stream",
          "name": "stdout",
          "text": [
            "Epoch 1/10\n",
            "131/131 [==============================] - 13s 46ms/step - loss: 0.6337 - accuracy: 0.8660 - val_loss: 0.5217 - val_accuracy: 0.8604\n",
            "Epoch 2/10\n",
            "131/131 [==============================] - 3s 26ms/step - loss: 0.4005 - accuracy: 0.8660 - val_loss: 0.2842 - val_accuracy: 0.8604\n",
            "Epoch 3/10\n",
            "131/131 [==============================] - 3s 21ms/step - loss: 0.1767 - accuracy: 0.9229 - val_loss: 0.1276 - val_accuracy: 0.9667\n",
            "Epoch 4/10\n",
            "131/131 [==============================] - 4s 27ms/step - loss: 0.0889 - accuracy: 0.9773 - val_loss: 0.0911 - val_accuracy: 0.9719\n",
            "Epoch 5/10\n",
            "131/131 [==============================] - 3s 20ms/step - loss: 0.0619 - accuracy: 0.9835 - val_loss: 0.0720 - val_accuracy: 0.9760\n",
            "Epoch 6/10\n",
            "131/131 [==============================] - 3s 26ms/step - loss: 0.0469 - accuracy: 0.9876 - val_loss: 0.0602 - val_accuracy: 0.9823\n",
            "Epoch 7/10\n",
            "131/131 [==============================] - 3s 19ms/step - loss: 0.0362 - accuracy: 0.9914 - val_loss: 0.0564 - val_accuracy: 0.9854\n",
            "Epoch 8/10\n",
            "131/131 [==============================] - 2s 18ms/step - loss: 0.0290 - accuracy: 0.9923 - val_loss: 0.0569 - val_accuracy: 0.9854\n",
            "Epoch 9/10\n",
            "131/131 [==============================] - 3s 23ms/step - loss: 0.0221 - accuracy: 0.9935 - val_loss: 0.0557 - val_accuracy: 0.9885\n",
            "Epoch 10/10\n",
            "131/131 [==============================] - 3s 20ms/step - loss: 0.0173 - accuracy: 0.9959 - val_loss: 0.0593 - val_accuracy: 0.9844\n"
          ]
        }
      ]
    },
    {
      "cell_type": "code",
      "source": [
        "loss, accuracy = model.evaluate(ds_test)"
      ],
      "metadata": {
        "colab": {
          "base_uri": "https://localhost:8080/"
        },
        "id": "O0WunP7mAyMB",
        "outputId": "12ecb3db-12a4-4e92-9e1d-c0d069b3b082"
      },
      "execution_count": 130,
      "outputs": [
        {
          "output_type": "stream",
          "name": "stdout",
          "text": [
            "44/44 [==============================] - 0s 6ms/step - loss: 0.0552 - accuracy: 0.9849\n"
          ]
        }
      ]
    },
    {
      "cell_type": "code",
      "execution_count": 132,
      "metadata": {
        "id": "J9tD9yACG6M9",
        "colab": {
          "base_uri": "https://localhost:8080/"
        },
        "outputId": "bebaa45b-529a-4b96-a8ca-183c92cd3d42"
      },
      "outputs": [
        {
          "output_type": "stream",
          "name": "stdout",
          "text": [
            "1/1 [==============================] - 3s 3s/step\n",
            "[1.1235372, 'spam']\n"
          ]
        }
      ],
      "source": [
        "# function to predict messages based on model\n",
        "# (should return list containing prediction and label, ex. [0.008318834938108921, 'ham'])\n",
        "def predict_message(pred_text):\n",
        "\n",
        "  prediction = model.predict([pred_text])[0][0]\n",
        "  return [prediction, \"ham\" if prediction < 0.5 else \"spam\"]\n",
        "\n",
        "pred_text = \"sale today! to stop texts call 98912460324\"\n",
        "\n",
        "prediction = predict_message(pred_text)\n",
        "print(prediction)"
      ]
    },
    {
      "cell_type": "code",
      "execution_count": 133,
      "metadata": {
        "id": "Dxotov85SjsC",
        "colab": {
          "base_uri": "https://localhost:8080/"
        },
        "outputId": "dc8d277b-2ea2-41e5-da92-3829c7de8769"
      },
      "outputs": [
        {
          "output_type": "stream",
          "name": "stdout",
          "text": [
            "1/1 [==============================] - 0s 30ms/step\n",
            "1/1 [==============================] - 0s 28ms/step\n",
            "1/1 [==============================] - 0s 29ms/step\n",
            "1/1 [==============================] - 0s 30ms/step\n",
            "1/1 [==============================] - 0s 29ms/step\n",
            "1/1 [==============================] - 0s 27ms/step\n",
            "1/1 [==============================] - 0s 29ms/step\n",
            "You passed the challenge. Great job!\n"
          ]
        }
      ],
      "source": [
        "# Run this cell to test your function and model. Do not modify contents. - do not edit\n",
        "def test_predictions():\n",
        "  test_messages = [\"how are you doing today\",\n",
        "                   \"sale today! to stop texts call 98912460324\",\n",
        "                   \"i dont want to go. can we try it a different day? available sat\",\n",
        "                   \"our new mobile video service is live. just install on your phone to start watching.\",\n",
        "                   \"you have won £1000 cash! call to claim your prize.\",\n",
        "                   \"i'll bring it tomorrow. don't forget the milk.\",\n",
        "                   \"wow, is your arm alright. that happened to me one time too\"\n",
        "                  ]\n",
        "\n",
        "  test_answers = [\"ham\", \"spam\", \"ham\", \"spam\", \"spam\", \"ham\", \"ham\"]\n",
        "  passed = True\n",
        "\n",
        "  for msg, ans in zip(test_messages, test_answers):\n",
        "    prediction = predict_message(msg)\n",
        "    if prediction[1] != ans:\n",
        "      passed = False\n",
        "\n",
        "  if passed:\n",
        "    print(\"You passed the challenge. Great job!\")\n",
        "  else:\n",
        "    print(\"You haven't passed yet. Keep trying.\")\n",
        "\n",
        "test_predictions()\n"
      ]
    }
  ]
}